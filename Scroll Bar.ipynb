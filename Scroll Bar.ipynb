{
 "cells": [
  {
   "cell_type": "code",
   "execution_count": 8,
   "metadata": {},
   "outputs": [],
   "source": [
    "from tkinter import *\n",
    "\n",
    "mainWindow = Tk()\n",
    "mainWindow.geometry('600x500+300+100')\n",
    "\n",
    "myFrame = Frame(mainWindow)\n",
    "\n",
    "scrollbar = Scrollbar(myFrame)\n",
    "scrollbar.pack( side = RIGHT, fill = Y )\n",
    "\n",
    "mylist = Listbox(myFrame, yscrollcommand = scrollbar.set,\n",
    "                  bg='gray',\n",
    "                  fg='red',\n",
    "                  font=\"Times 14 bold italic\",\n",
    "                  cursor=\"star\",\n",
    "                  width=20,\n",
    "                  height=10,\n",
    "                  highlightcolor='orange',\n",
    "                  highlightthickness=5,\n",
    "                  selectbackground=\"green\",\n",
    "                  bd=5,\n",
    "                  relief=RAISED)\n",
    "for line in range(100):\n",
    "   mylist.insert(END, \"This is line number \" + str(line))\n",
    "\n",
    "mylist.pack( side = LEFT, fill = BOTH )\n",
    "scrollbar.config( command = mylist.yview )\n",
    "\n",
    "myFrame.pack()\n",
    "\n",
    "mainWindow.mainloop()"
   ]
  }
 ],
 "metadata": {
  "kernelspec": {
   "display_name": "Python 3",
   "language": "python",
   "name": "python3"
  },
  "language_info": {
   "codemirror_mode": {
    "name": "ipython",
    "version": 3
   },
   "file_extension": ".py",
   "mimetype": "text/x-python",
   "name": "python",
   "nbconvert_exporter": "python",
   "pygments_lexer": "ipython3",
   "version": "3.7.4"
  }
 },
 "nbformat": 4,
 "nbformat_minor": 2
}
