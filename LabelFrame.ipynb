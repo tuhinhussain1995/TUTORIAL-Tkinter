{
 "cells": [
  {
   "cell_type": "code",
   "execution_count": 3,
   "metadata": {},
   "outputs": [],
   "source": [
    "from tkinter import *\n",
    "\n",
    "mainWindow = Tk()\n",
    "mainWindow.geometry('1000x800+300+100')\n",
    "\n",
    "labelframe = LabelFrame(mainWindow, text=\"This is a LabelFrame\", bd=5)\n",
    "labelframe.pack(fill=\"both\", expand=\"yes\")\n",
    "\n",
    "left = Label(labelframe, text=\"Inside the LabelFrame\")\n",
    "left.pack()\n",
    "\n",
    "mainWindow.mainloop()"
   ]
  },
  {
   "cell_type": "code",
   "execution_count": 4,
   "metadata": {},
   "outputs": [],
   "source": [
    "from tkinter import *\n",
    "\n",
    "mainWindow = Tk()\n",
    "mainWindow.geometry('600x500+300+100')\n",
    "\n",
    "labelframe1 = LabelFrame(mainWindow,\n",
    "                         text=\"Positive Comments\",\n",
    "                         font='Times 15 bold',\n",
    "                         bg='yellow',\n",
    "                         fg='red',\n",
    "                         cursor='arrow',\n",
    "                         highlightbackground='orange',\n",
    "                         highlightthickness=10,\n",
    "                         bd=10,\n",
    "                         relief=RAISED,\n",
    "                         padx=10,\n",
    "                         pady=10)\n",
    "labelframe1.pack(fill=\"both\", expand=\"yes\")\n",
    "\n",
    "toplabel = Label(labelframe1, text=\"Place to put the positive comments\")\n",
    "toplabel.pack()\n",
    "\n",
    "labelframe2 = LabelFrame(mainWindow, text=\"Negative Comments\")\n",
    "labelframe2.pack(fill=\"both\", expand=\"yes\")\n",
    "\n",
    "bottomlabel = Label(labelframe2, text=\"Place to put the negative comments\")\n",
    "bottomlabel.pack()\n",
    "\n",
    "mainWindow.mainloop()"
   ]
  }
 ],
 "metadata": {
  "kernelspec": {
   "display_name": "Python 3",
   "language": "python",
   "name": "python3"
  },
  "language_info": {
   "codemirror_mode": {
    "name": "ipython",
    "version": 3
   },
   "file_extension": ".py",
   "mimetype": "text/x-python",
   "name": "python",
   "nbconvert_exporter": "python",
   "pygments_lexer": "ipython3",
   "version": "3.7.4"
  }
 },
 "nbformat": 4,
 "nbformat_minor": 2
}
