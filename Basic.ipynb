{
 "cells": [
  {
   "cell_type": "code",
   "execution_count": 11,
   "metadata": {},
   "outputs": [],
   "source": [
    "# anchor ==> where the text is positioned if the widget has more space than the text needs.\n",
    "        # N, NE, E, SE, S, SW, W, NW or default is CENTER\n",
    "# fg ==> Foreground color or text color.\n",
    "# bg ==> Background color\n",
    "# borderwidth ==> the width of the label border. or used bd for borderwidth\n",
    "# font ==> font of the label text\n",
    "# height ==> height of the label\n",
    "# width ==> width of the label\n",
    "# state ==> controls how the label is rendered. ACTIVE or DISABLED\n",
    "# justify ==> Defines how to align multiple lines of text. LEFT, RIGHT, CENTER (text alignment)\n",
    "# relief ==> Border decoration. FLAT, SUNKEN, RAISED, GROOVE, and RIDGE."
   ]
  },
  {
   "cell_type": "markdown",
   "metadata": {},
   "source": [
    "## icon, title, geometry"
   ]
  },
  {
   "cell_type": "code",
   "execution_count": 8,
   "metadata": {},
   "outputs": [],
   "source": [
    "from tkinter import *\n",
    "\n",
    "mainWindow = Tk()                                   # creating a mainWindow\n",
    "myLabel = Label(mainWindow, text=\"Hello World!\")    # creating a label\n",
    "myLabel.pack()                                      # set it onto the screen\n",
    "mainWindow.mainloop()                               # loop the mainWindow again and again"
   ]
  },
  {
   "cell_type": "code",
   "execution_count": 7,
   "metadata": {},
   "outputs": [],
   "source": [
    "from tkinter import *\n",
    "\n",
    "mainWindow = Tk()\n",
    "\n",
    "mainWindow.iconbitmap('C:/Users/tuhin/Python Masterclass/hnet.com-image.ico')         # set a icon\n",
    "mainWindow.title(\"This is the Title\")               # this is the page title\n",
    "\n",
    "mainWindow.geometry('640x480')                      # create a default sized window (width x height)=(640x480)\n",
    "    # or mainWindow.geometry('640x480+300+100')     # window size (640x480) and screen posistion (x,y) = (300, 100)\n",
    "\n",
    "myLabel = Label(mainWindow, text=\"Hello World!\")    # creating a label\n",
    "myLabel.pack()\n",
    "\n",
    "mainWindow.mainloop()"
   ]
  },
  {
   "cell_type": "code",
   "execution_count": 2,
   "metadata": {},
   "outputs": [],
   "source": [
    "from tkinter import *\n",
    "\n",
    "mainWindow = Tk()\n",
    "mainWindow.geometry('600x500-300-200')\n",
    "\n",
    "myLabel = Label(mainWindow, text=\"This is my Label\")\n",
    "myLabel.pack()\n",
    "\n",
    "mainWindow.mainloop()"
   ]
  },
  {
   "cell_type": "code",
   "execution_count": 2,
   "metadata": {},
   "outputs": [],
   "source": [
    "from tkinter import *\n",
    "\n",
    "mainWindow = Tk()\n",
    "mainWindow.geometry('600x500+300+100')\n",
    "\n",
    "mainWindow.configure(bg='#2df583',\n",
    "                     highlightbackground='pink',\n",
    "                     highlightthickness=10,\n",
    "                     highlightcolor='blue',\n",
    "                     relief=RAISED,\n",
    "                     bd=20,\n",
    "                     cursor='star',\n",
    "                     padx=10,\n",
    "                     pady=100)\n",
    "\n",
    "myLabel = Label(mainWindow, text=\"This is my Label\")\n",
    "myLabel.pack()\n",
    "\n",
    "mainWindow.mainloop()"
   ]
  },
  {
   "cell_type": "markdown",
   "metadata": {},
   "source": [
    "## padx and pady "
   ]
  },
  {
   "cell_type": "code",
   "execution_count": 9,
   "metadata": {},
   "outputs": [],
   "source": [
    "# if we add padx or pady inside Label() or Burron() or frame or etc is works in inside\n",
    "# But if we use padx or pady inside pack() or grid() is works in outside"
   ]
  },
  {
   "cell_type": "code",
   "execution_count": 10,
   "metadata": {},
   "outputs": [],
   "source": [
    "from tkinter import *\n",
    "from PIL import ImageTk, Image            # PIL is pillow\n",
    "\n",
    "mainWindow = Tk()\n",
    "\n",
    "frame = LabelFrame(mainWindow, text=\"This is Frame\", padx=20, pady=20)\n",
    "frame.pack(padx=50, pady=50)\n",
    "\n",
    "button1 = Button(frame, text=\"Button 1\")\n",
    "button1.grid(row=0, column=1)\n",
    "\n",
    "mainWindow.mainloop()"
   ]
  },
  {
   "cell_type": "markdown",
   "metadata": {},
   "source": [
    "## Message"
   ]
  },
  {
   "cell_type": "code",
   "execution_count": 1,
   "metadata": {},
   "outputs": [],
   "source": [
    "from tkinter import *\n",
    "\n",
    "mainWindow = Tk()\n",
    "mainWindow.geometry('600x500+300+100')\n",
    "\n",
    "msg = Message(mainWindow,\n",
    "              text=\"Welcome to Python tkinter\",\n",
    "              font=\"Times 20 bold\",\n",
    "              anchor=E,\n",
    "              bg='yellow',\n",
    "              bd=5,\n",
    "              relief=RAISED,\n",
    "              fg='red',\n",
    "              width=400,\n",
    "              justify=RIGHT,\n",
    "              padx=20,\n",
    "              pady=20)\n",
    "\n",
    "msg.pack()\n",
    "\n",
    "mainWindow.mainloop()"
   ]
  },
  {
   "cell_type": "markdown",
   "metadata": {},
   "source": [
    "## Cursor Types"
   ]
  },
  {
   "cell_type": "code",
   "execution_count": null,
   "metadata": {},
   "outputs": [],
   "source": [
    "# \"arrow\"            mouse arrow\n",
    "# \"circle\"          \n",
    "# \"clock\"\n",
    "# \"cross\"            bold and big + sign\n",
    "# \"dotbox\"           dot with square box\n",
    "# \"exchange\"         recycle symbol\n",
    "# \"fleur\"            control sign (up, down, left, right)\n",
    "# \"heart\"\n",
    "# \"man\"\n",
    "# \"mouse\"\n",
    "# \"pirate\" \n",
    "# \"plus\"             simple + sign\n",
    "# \"shuttle\"\n",
    "# \"sizing\"\n",
    "# \"spider\"\n",
    "# \"spraycan\"\n",
    "# \"star\"\n",
    "# \"target\"\n",
    "# \"tcross\"\n",
    "# \"trek\"\n",
    "# \"watch\""
   ]
  },
  {
   "cell_type": "code",
   "execution_count": null,
   "metadata": {},
   "outputs": [],
   "source": []
  }
 ],
 "metadata": {
  "kernelspec": {
   "display_name": "Python 3",
   "language": "python",
   "name": "python3"
  },
  "language_info": {
   "codemirror_mode": {
    "name": "ipython",
    "version": 3
   },
   "file_extension": ".py",
   "mimetype": "text/x-python",
   "name": "python",
   "nbconvert_exporter": "python",
   "pygments_lexer": "ipython3",
   "version": "3.7.4"
  }
 },
 "nbformat": 4,
 "nbformat_minor": 2
}
