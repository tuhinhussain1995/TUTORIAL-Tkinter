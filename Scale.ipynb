{
 "cells": [
  {
   "cell_type": "code",
   "execution_count": 7,
   "metadata": {},
   "outputs": [],
   "source": [
    "from tkinter import *\n",
    "\n",
    "mainWindow = Tk()\n",
    "mainWindow.geometry('600x500+300+100')\n",
    "\n",
    "def select():\n",
    "    sel = \"Value = \" + str(v.get())\n",
    "    label.config(text=sel)\n",
    "\n",
    "v = DoubleVar()\n",
    "\n",
    "scale = Scale(mainWindow,\n",
    "              variable=v,\n",
    "              from_=1, to=10000,\n",
    "              orient=HORIZONTAL,\n",
    "              bg='orange',\n",
    "              activebackground='red',\n",
    "              cursor='mouse',\n",
    "              font='Times 20 bold',\n",
    "              fg='blue',\n",
    "              highlightbackground='yellow',\n",
    "              highlightthickness=10,\n",
    "              length=250,\n",
    "              width=50,\n",
    "              digits=6,\n",
    "              label=\"Salary\",\n",
    "              sliderlength=60,\n",
    "              sliderrelief=RAISED,\n",
    "              bd=10,\n",
    "              relief=RAISED,\n",
    "              troughcolor='gray')\n",
    "scale.pack(anchor=CENTER)\n",
    "\n",
    "btn = Button(mainWindow, text=\"Value\", command=select)\n",
    "btn.pack(anchor=CENTER)\n",
    "\n",
    "label = Label(mainWindow)\n",
    "label.pack()\n",
    "\n",
    "mainWindow.mainloop()"
   ]
  }
 ],
 "metadata": {
  "kernelspec": {
   "display_name": "Python 3",
   "language": "python",
   "name": "python3"
  },
  "language_info": {
   "codemirror_mode": {
    "name": "ipython",
    "version": 3
   },
   "file_extension": ".py",
   "mimetype": "text/x-python",
   "name": "python",
   "nbconvert_exporter": "python",
   "pygments_lexer": "ipython3",
   "version": "3.7.4"
  }
 },
 "nbformat": 4,
 "nbformat_minor": 2
}
