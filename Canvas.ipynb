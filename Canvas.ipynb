{
 "cells": [
  {
   "cell_type": "code",
   "execution_count": 7,
   "metadata": {},
   "outputs": [],
   "source": [
    "from tkinter import *\n",
    "\n",
    "mainWindow = Tk()\n",
    "mainWindow.geometry('600x400+300+100')\n",
    "\n",
    "myCanvas1 = Canvas(mainWindow, height=200, width=200, bg='pink', bd=5, relief=RAISED)   # (x1,y1)=(20,10) and (x2,y2)=(180,150)\n",
    "myCanvas2 = Canvas(mainWindow, height=200, width=200, bg='green', bd=5, relief=SUNKEN)  # (x1,y1)=(40,40) and (x2,y2)=(160,160)\n",
    "myCanvas3 = Canvas(mainWindow, height=200, width=200, bg='red', bd=5, relief=RIDGE)     # (x1,y1)=(20,60) and (x2,y2)=(180,200)\n",
    "\n",
    "myLine = myCanvas1.create_line(20,10, 180,150, width=5)\n",
    "myOval = myCanvas2.create_oval(40,40, 160,160, fill='red')\n",
    "myArc = myCanvas3.create_arc(20,60, 180,200, extent=160, fill='blue')\n",
    "\n",
    "myCanvas1.grid(row=0, column=0)\n",
    "myCanvas2.grid(row=0, column=1)\n",
    "myCanvas3.grid(row=1, column=0, columnspan=2)\n",
    "\n",
    "mainWindow.mainloop()"
   ]
  },
  {
   "cell_type": "markdown",
   "metadata": {},
   "source": [
    "## line"
   ]
  },
  {
   "cell_type": "code",
   "execution_count": 2,
   "metadata": {},
   "outputs": [],
   "source": [
    "from tkinter import *\n",
    "\n",
    "mainWindow = Tk()\n",
    "mainWindow.geometry('600x400+300+100')\n",
    "\n",
    "myCanvas = Canvas(mainWindow, height=250, width=300, bg='yellow')\n",
    "myLine = myCanvas.create_line(0,0, 200,200, width=5)                 # (x1,y1)=(0,0) and (x2,y2)=(200,200)\n",
    "myLine = myCanvas.create_line(200,25, 40,250, width=5)               # (x1,y1)=200,25) and (x2,y2)=(40,250)\n",
    "\n",
    "myCanvas.pack()\n",
    "\n",
    "mainWindow.mainloop()"
   ]
  },
  {
   "cell_type": "markdown",
   "metadata": {},
   "source": [
    "## oval"
   ]
  },
  {
   "cell_type": "code",
   "execution_count": 3,
   "metadata": {},
   "outputs": [],
   "source": [
    "from tkinter import *\n",
    "\n",
    "mainWindow = Tk()\n",
    "mainWindow.geometry('600x400+300+100')\n",
    "\n",
    "myCanvas = Canvas(mainWindow, height=250, width=400, bg='pink')\n",
    "myOval = myCanvas.create_oval(20,20, 100,100, fill='red')          # (x1,y1)=(20,20) and (x2,y2)=(100,100)    \n",
    "myOval = myCanvas.create_oval(130,60, 200,90, fill='red')          # (x1,y1)=(130,60) and (x2,y2)=(200,90)\n",
    "myOval = myCanvas.create_oval(250,20, 280,100, fill='red')         # (x1,y1)=(250,20) and (x2,y2)=(280,100)\n",
    "\n",
    "myCanvas.pack()\n",
    "\n",
    "mainWindow.mainloop()"
   ]
  },
  {
   "cell_type": "markdown",
   "metadata": {},
   "source": [
    "## arc"
   ]
  },
  {
   "cell_type": "code",
   "execution_count": 3,
   "metadata": {},
   "outputs": [],
   "source": [
    "from tkinter import *\n",
    "\n",
    "mainWindow = Tk()\n",
    "mainWindow.geometry('600x400+300+100')\n",
    "\n",
    "myCanvas = Canvas(mainWindow, height=300, width=500, bg='pink')\n",
    "myArc = myCanvas.create_arc(10,50, 240,210, start=0, extent=150, fill='blue')      # (x1,y1)=(10,50) and (x2,y2)=(240, 210)\n",
    "myArc = myCanvas.create_arc(290,50, 460,250, start=0, extent=359, fill='blue')      # (x1,y1)=(290,50) and (x2,y2)=(460,250)\n",
    "\n",
    "myCanvas.pack()\n",
    "\n",
    "mainWindow.mainloop()"
   ]
  },
  {
   "cell_type": "code",
   "execution_count": 2,
   "metadata": {},
   "outputs": [],
   "source": [
    "from tkinter import *\n",
    "\n",
    "mainWindow = Tk()\n",
    "mainWindow.geometry('600x500+300+100')\n",
    "\n",
    "myCanvas3 = Canvas(mainWindow, height=400, width=400, bg='white', bd=10, relief=RAISED)\n",
    "\n",
    "myOval2 = myCanvas3.create_oval(60,60, 340,340, fill='yellow')\n",
    "myArc1 = myCanvas3.create_arc(60,60, 340,340, start=0, extent=210, fill='blue')\n",
    "myArc2 = myCanvas3.create_arc(60,60, 340,340, start=210, extent=30, fill='green')\n",
    "myArc3 = myCanvas3.create_arc(60,60, 340,340, start=240, extent=80, fill='orange')\n",
    "\n",
    "myCanvas3.grid(row=1, column=0, columnspan=2)\n",
    "\n",
    "mainWindow.mainloop()"
   ]
  },
  {
   "cell_type": "code",
   "execution_count": 1,
   "metadata": {},
   "outputs": [],
   "source": [
    "from tkinter import *\n",
    "\n",
    "mainWindow = Tk()\n",
    "mainWindow.geometry('600x500+300+100')\n",
    "\n",
    "myCanvas3 = Canvas(mainWindow, height=400, width=400, bg='white', bd=10, relief=RAISED)\n",
    "\n",
    "myOval2 = myCanvas3.create_oval(60,60, 340,340, fill='yellow')\n",
    "myArc1 = myCanvas3.create_arc(60,60, 340,340, start=0, extent=210, fill='blue')\n",
    "myArc2 = myCanvas3.create_arc(60,60, 340,340, start=210, extent=30, fill='green')\n",
    "myArc3 = myCanvas3.create_arc(60,60, 340,340, start=240, extent=80, fill='orange')\n",
    "\n",
    "mytext1 = myCanvas3.create_text(200,130, fill=\"aqua\", font=\"Times 20 italic bold\", text=\"Python\")\n",
    "mytext2 = myCanvas3.create_text(130,270, fill=\"aqua\", font=\"Times 14 italic bold\", text=\"Java\")\n",
    "mytext3 = myCanvas3.create_text(220,270, fill=\"aqua\", font=\"Times 20 italic bold\", text=\"PHP\")\n",
    "mytext4 = myCanvas3.create_text(290,230, fill=\"red\", font=\"Times 20 italic bold\", text=\"None\")\n",
    "\n",
    "myCanvas3.grid(row=1, column=0, columnspan=2)\n",
    "\n",
    "mainWindow.mainloop()"
   ]
  },
  {
   "cell_type": "markdown",
   "metadata": {},
   "source": [
    "## text"
   ]
  },
  {
   "cell_type": "code",
   "execution_count": 1,
   "metadata": {},
   "outputs": [],
   "source": [
    "from tkinter import *\n",
    "\n",
    "mainWindow = Tk()\n",
    "mainWindow.geometry('600x500+300+100')\n",
    "\n",
    "myCanvas3 = Canvas(mainWindow, height=400, width=400, bg='white', bd=10, relief=RAISED)\n",
    "\n",
    "myOval2 = myCanvas3.create_oval(60,60, 340,340, fill='yellow')\n",
    "myArc1 = myCanvas3.create_arc(60,60, 340,340, start=0, extent=210, fill='blue')\n",
    "myArc2 = myCanvas3.create_arc(60,60, 340,340, start=210, extent=30, fill='green')\n",
    "myArc3 = myCanvas3.create_arc(60,60, 340,340, start=240, extent=80, fill='orange')\n",
    "\n",
    "mytext1 = myCanvas3.create_text(200,130, fill=\"aqua\", font=\"Times 20 italic bold\", text=\"Python\")\n",
    "mytext2 = myCanvas3.create_text(130,270, fill=\"aqua\", font=\"Times 14 italic bold\", text=\"Java\")\n",
    "mytext3 = myCanvas3.create_text(220,270, fill=\"aqua\", font=\"Times 20 italic bold\", text=\"PHP\")\n",
    "mytext4 = myCanvas3.create_text(290,230, fill=\"red\", font=\"Times 20 italic bold\", text=\"None\")\n",
    "\n",
    "myCanvas3.grid(row=1, column=0, columnspan=2)\n",
    "\n",
    "mainWindow.mainloop()"
   ]
  },
  {
   "cell_type": "code",
   "execution_count": null,
   "metadata": {},
   "outputs": [],
   "source": []
  },
  {
   "cell_type": "code",
   "execution_count": null,
   "metadata": {},
   "outputs": [],
   "source": []
  },
  {
   "cell_type": "code",
   "execution_count": null,
   "metadata": {},
   "outputs": [],
   "source": []
  },
  {
   "cell_type": "code",
   "execution_count": 12,
   "metadata": {},
   "outputs": [
    {
     "name": "stdout",
     "output_type": "stream",
     "text": [
      "1.0\n",
      "-0.5000000000000004\n"
     ]
    }
   ],
   "source": [
    "import math\n",
    "\n",
    "print(math.sin(math.radians(90)))\n",
    "print(math.sin(math.radians(330)))"
   ]
  },
  {
   "cell_type": "code",
   "execution_count": 15,
   "metadata": {},
   "outputs": [
    {
     "name": "stdout",
     "output_type": "stream",
     "text": [
      "0.7336545584598283\n",
      "-0.9310355950391553\n"
     ]
    }
   ],
   "source": [
    "import math\n",
    "\n",
    "print(math.cos(math.degrees(1)))\n",
    "print(math.cos(math.degrees(-.5)))"
   ]
  },
  {
   "cell_type": "code",
   "execution_count": null,
   "metadata": {},
   "outputs": [],
   "source": []
  },
  {
   "cell_type": "code",
   "execution_count": null,
   "metadata": {},
   "outputs": [],
   "source": []
  },
  {
   "cell_type": "code",
   "execution_count": null,
   "metadata": {},
   "outputs": [],
   "source": []
  },
  {
   "cell_type": "code",
   "execution_count": null,
   "metadata": {},
   "outputs": [],
   "source": []
  }
 ],
 "metadata": {
  "kernelspec": {
   "display_name": "Python 3",
   "language": "python",
   "name": "python3"
  },
  "language_info": {
   "codemirror_mode": {
    "name": "ipython",
    "version": 3
   },
   "file_extension": ".py",
   "mimetype": "text/x-python",
   "name": "python",
   "nbconvert_exporter": "python",
   "pygments_lexer": "ipython3",
   "version": "3.7.4"
  }
 },
 "nbformat": 4,
 "nbformat_minor": 2
}
