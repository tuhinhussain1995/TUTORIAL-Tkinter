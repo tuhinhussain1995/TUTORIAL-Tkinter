{
 "cells": [
  {
   "cell_type": "code",
   "execution_count": 2,
   "metadata": {},
   "outputs": [],
   "source": [
    "from tkinter import *\n",
    "\n",
    "mainWindow = Tk()\n",
    "\n",
    "frame = LabelFrame(mainWindow, text=\"This is Frame\", padx=20, pady=20)\n",
    "frame.pack(padx=50, pady=50)\n",
    "\n",
    "button1 = Button(frame, text=\"Button 1\")\n",
    "button2 = Button(frame, text=\"Button 2\")\n",
    "\n",
    "button1.grid(row=0, column=0)\n",
    "button2.grid(row=1, column=1)\n",
    "\n",
    "mainWindow.mainloop()"
   ]
  },
  {
   "cell_type": "code",
   "execution_count": 1,
   "metadata": {},
   "outputs": [],
   "source": [
    "from tkinter import*\n",
    "\n",
    "mainWindow=Tk()\n",
    "mainWindow.geometry('1000x800+300+100')\n",
    "\n",
    "frame=Frame(mainWindow,\n",
    "            width=300,\n",
    "            height=300,\n",
    "            bg=\"blue\",\n",
    "            bd=5,\n",
    "            relief=RAISED,\n",
    "            highlightthickness=5,\n",
    "            highlightbackground=\"green\")\n",
    "frame.pack(side=LEFT, padx=10, pady=10)\n",
    "\n",
    "frame=Frame(mainWindow, width=300,\n",
    "            height=300,\n",
    "            bg=\"gray\",\n",
    "            bd=5,\n",
    "            relief=RAISED,\n",
    "            highlightthickness=5,\n",
    "            highlightbackground=\"green\")\n",
    "frame.pack(side=LEFT, padx=10, pady=10)\n",
    "\n",
    "frame=Frame(mainWindow, width=300, height=300, bg=\"yellow\", bd=5, relief=RAISED,\n",
    "            highlightthickness=5,\n",
    "            highlightbackground=\"green\")\n",
    "frame.pack(side=LEFT, padx=10, pady=10)\n",
    "\n",
    "mainWindow.mainloop()"
   ]
  }
 ],
 "metadata": {
  "kernelspec": {
   "display_name": "Python 3",
   "language": "python",
   "name": "python3"
  },
  "language_info": {
   "codemirror_mode": {
    "name": "ipython",
    "version": 3
   },
   "file_extension": ".py",
   "mimetype": "text/x-python",
   "name": "python",
   "nbconvert_exporter": "python",
   "pygments_lexer": "ipython3",
   "version": "3.7.4"
  }
 },
 "nbformat": 4,
 "nbformat_minor": 2
}
