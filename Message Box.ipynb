{
 "cells": [
  {
   "cell_type": "markdown",
   "metadata": {},
   "source": [
    "## Information"
   ]
  },
  {
   "cell_type": "code",
   "execution_count": 41,
   "metadata": {},
   "outputs": [],
   "source": [
    "from tkinter import *\n",
    "from tkinter import messagebox\n",
    "\n",
    "mainWindow = Tk()\n",
    "mainWindow.geometry('600x500+300+100')\n",
    "\n",
    "def information():\n",
    "    messagebox.showinfo(\"information\", \"Phthon is the Best Programming Language\")\n",
    "\n",
    "info_button = Button(mainWindow, text='Information', command=information)\n",
    "info_button.pack()\n",
    "\n",
    "mainWindow.mainloop()"
   ]
  },
  {
   "cell_type": "markdown",
   "metadata": {},
   "source": [
    "## Warning"
   ]
  },
  {
   "cell_type": "code",
   "execution_count": 24,
   "metadata": {},
   "outputs": [],
   "source": [
    "from tkinter import *\n",
    "from tkinter import messagebox\n",
    "\n",
    "mainWindow = Tk()\n",
    "mainWindow.geometry('600x500+300+100')\n",
    "\n",
    "def warning():\n",
    "    messagebox.showwarning(\"warning\", \"This is very Dangerous for you !!!\")\n",
    "\n",
    "warning_button = Button(mainWindow, text='Warning', command=warning)\n",
    "warning_button.pack()\n",
    "\n",
    "mainWindow.mainloop()"
   ]
  },
  {
   "cell_type": "markdown",
   "metadata": {},
   "source": [
    "## Error"
   ]
  },
  {
   "cell_type": "code",
   "execution_count": 25,
   "metadata": {},
   "outputs": [],
   "source": [
    "from tkinter import *\n",
    "from tkinter import messagebox\n",
    "\n",
    "mainWindow = Tk()\n",
    "mainWindow.geometry('600x500+300+100')\n",
    "\n",
    "def error():\n",
    "    messagebox.showerror(\"error\", \"Sorry !!! Not possible to Install\")\n",
    "\n",
    "error_button = Button(mainWindow, text='Error', command=error)\n",
    "error_button.pack()\n",
    "\n",
    "mainWindow.mainloop()"
   ]
  },
  {
   "cell_type": "markdown",
   "metadata": {},
   "source": [
    "## Confirmation"
   ]
  },
  {
   "cell_type": "code",
   "execution_count": 40,
   "metadata": {},
   "outputs": [],
   "source": [
    "from tkinter import *\n",
    "from tkinter import messagebox\n",
    "\n",
    "mainWindow = Tk()\n",
    "mainWindow.geometry('600x500+300+100')\n",
    "\n",
    "def confirmation():\n",
    "    MsgBox = messagebox.askquestion('Exit Application', 'Are you sure you want to exit the application',icon='warning')\n",
    "    if MsgBox == 'yes':\n",
    "        mainWindow.destroy()\n",
    "    else:\n",
    "        messagebox.showinfo('Return', 'You will now return to the application screen')\n",
    "\n",
    "askQuestion_button = Button(mainWindow, text='Confirmation', command=confirmation)\n",
    "askQuestion_button.pack()\n",
    "\n",
    "mainWindow.mainloop()"
   ]
  },
  {
   "cell_type": "markdown",
   "metadata": {},
   "source": [
    "## Permission"
   ]
  },
  {
   "cell_type": "code",
   "execution_count": null,
   "metadata": {},
   "outputs": [],
   "source": [
    "from tkinter import *\n",
    "from tkinter import messagebox\n",
    "import  webbrowser\n",
    "\n",
    "mainWindow = Tk()\n",
    "mainWindow.geometry('600x500+300+100')\n",
    "\n",
    "def permission():\n",
    "    MsgBox = messagebox.askokcancel(\"redirect\", \"Now the browser will open a new tab\")\n",
    "    if MsgBox:\n",
    "        webbrowser.open(\"https:/www.python.org/\")\n",
    "    else:\n",
    "        messagebox.showinfo('Return', 'You will now return to the application screen')\n",
    "\n",
    "askOkCancel_button = Button(mainWindow, text='Permission', command=permission)\n",
    "askOkCancel_button.pack()\n",
    "\n",
    "mainWindow.mainloop()"
   ]
  },
  {
   "cell_type": "markdown",
   "metadata": {},
   "source": [
    "## Asking"
   ]
  },
  {
   "cell_type": "code",
   "execution_count": 43,
   "metadata": {},
   "outputs": [],
   "source": [
    "from tkinter import *\n",
    "from tkinter import messagebox\n",
    "\n",
    "mainWindow = Tk()\n",
    "mainWindow.geometry('600x500+300+100')\n",
    "\n",
    "def asking():\n",
    "    MsgBox = messagebox.askyesno(\"application\", \"Do you understand this lecture?\")\n",
    "    \n",
    "    if not MsgBox:\n",
    "        messagebox.showinfo('Return', 'You should to watch it again carefully',icon='warning')\n",
    "    else:\n",
    "        messagebox.showinfo('Return', 'Now you can watch next lecture')\n",
    "\n",
    "askYesNo_button = Button(mainWindow, text='Asking', command=asking)\n",
    "askYesNo_button.pack()\n",
    "\n",
    "mainWindow.mainloop()"
   ]
  },
  {
   "cell_type": "markdown",
   "metadata": {},
   "source": [
    "## Attempt"
   ]
  },
  {
   "cell_type": "code",
   "execution_count": 42,
   "metadata": {},
   "outputs": [],
   "source": [
    "from tkinter import *\n",
    "from tkinter import messagebox\n",
    "\n",
    "mainWindow = Tk()\n",
    "mainWindow.geometry('600x500+300+100')\n",
    "\n",
    "def attempt():\n",
    "    MsgBox = messagebox.askretrycancel(\"application\", \"Do you want to try it again?\")\n",
    "    \n",
    "    if MsgBox:\n",
    "        attempt()\n",
    "    else:\n",
    "        messagebox.showinfo('Return', 'You will now return to the application screen')\n",
    "\n",
    "askRetryCancel_button = Button(mainWindow, text='Attempt', command=attempt)\n",
    "askRetryCancel_button.pack()\n",
    "\n",
    "mainWindow.mainloop()"
   ]
  }
 ],
 "metadata": {
  "kernelspec": {
   "display_name": "Python 3",
   "language": "python",
   "name": "python3"
  },
  "language_info": {
   "codemirror_mode": {
    "name": "ipython",
    "version": 3
   },
   "file_extension": ".py",
   "mimetype": "text/x-python",
   "name": "python",
   "nbconvert_exporter": "python",
   "pygments_lexer": "ipython3",
   "version": "3.7.4"
  }
 },
 "nbformat": 4,
 "nbformat_minor": 2
}
