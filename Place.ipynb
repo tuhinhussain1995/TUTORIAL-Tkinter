{
 "cells": [
  {
   "cell_type": "code",
   "execution_count": 1,
   "metadata": {},
   "outputs": [],
   "source": [
    "from tkinter import *\n",
    "\n",
    "mainWindow = Tk()\n",
    "mainWindow.geometry('600x500+300+100')\n",
    "\n",
    "name = Label(mainWindow, text=\"Name\").place(x=30, y=50)\n",
    "email = Label(mainWindow, text=\"Email\").place(x=30, y=90)\n",
    "password = Label(mainWindow, text=\"Password\").place(x=30, y=130)\n",
    "\n",
    "sbmitbtn = Button(mainWindow, text=\"Submit\", activebackground=\"pink\", activeforeground=\"blue\").place(x=110, y=170)\n",
    "\n",
    "e1 = Entry(mainWindow).place(x=95, y=50)\n",
    "e2 = Entry(mainWindow).place(x=95, y=90)\n",
    "e3 = Entry(mainWindow, show='*').place(x=95, y=130)\n",
    "\n",
    "mainWindow.mainloop()"
   ]
  }
 ],
 "metadata": {
  "kernelspec": {
   "display_name": "Python 3",
   "language": "python",
   "name": "python3"
  },
  "language_info": {
   "codemirror_mode": {
    "name": "ipython",
    "version": 3
   },
   "file_extension": ".py",
   "mimetype": "text/x-python",
   "name": "python",
   "nbconvert_exporter": "python",
   "pygments_lexer": "ipython3",
   "version": "3.7.4"
  }
 },
 "nbformat": 4,
 "nbformat_minor": 2
}
