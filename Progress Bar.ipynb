{
 "cells": [
  {
   "cell_type": "code",
   "execution_count": 1,
   "metadata": {},
   "outputs": [],
   "source": [
    "from tkinter import Tk,Frame,BOTH,LEFT,Listbox,Button,ANCHOR,X,Text\n",
    "from tkinter.ttk import Combobox,Progressbar\n",
    "\n",
    "def IncreaseValue():\n",
    "    progress['value']=progress['value']+1\n",
    "\n",
    "def decreaseValue():\n",
    "    progress['value']=progress['value']-1\n",
    "\n",
    "window=Tk()\n",
    "window.title(\"Extra Widgets\")\n",
    "\n",
    "\n",
    "frame2=Frame(window)\n",
    "frame2.pack()\n",
    "\n",
    "progress=Progressbar(frame2,length=100)\n",
    "progress.pack(side=LEFT)\n",
    "progress['value']=50\n",
    "\n",
    "#indeterminate progress\n",
    "progress2=Progressbar(frame2,length=100, mode='indeterminate')\n",
    "progress2.pack(side=LEFT)\n",
    "progress2.start()\n",
    "\n",
    "button1=Button(frame2,text=\"Increase\",command=IncreaseValue)\n",
    "button1.pack(side=LEFT)\n",
    "\n",
    "button1=Button(frame2,text=\"Increase\",command=decreaseValue)\n",
    "button1.pack(side=LEFT)\n",
    "\n",
    "window.mainloop()"
   ]
  }
 ],
 "metadata": {
  "kernelspec": {
   "display_name": "Python 3",
   "language": "python",
   "name": "python3"
  },
  "language_info": {
   "codemirror_mode": {
    "name": "ipython",
    "version": 3
   },
   "file_extension": ".py",
   "mimetype": "text/x-python",
   "name": "python",
   "nbconvert_exporter": "python",
   "pygments_lexer": "ipython3",
   "version": "3.7.4"
  }
 },
 "nbformat": 4,
 "nbformat_minor": 2
}
