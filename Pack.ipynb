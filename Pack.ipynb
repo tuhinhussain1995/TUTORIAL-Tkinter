{
 "cells": [
  {
   "cell_type": "markdown",
   "metadata": {},
   "source": [
    "## side"
   ]
  },
  {
   "cell_type": "code",
   "execution_count": 2,
   "metadata": {},
   "outputs": [],
   "source": [
    "from tkinter import *\n",
    "\n",
    "mainWindow = Tk()\n",
    "mainWindow.geometry('600x500+300+100')\n",
    "\n",
    "myLabel1 = Label(mainWindow, text=\"Red\", bg=\"red\", fg=\"white\")\n",
    "myLabel2 = Label(mainWindow, text=\"Green\", bg=\"green\", fg=\"black\")\n",
    "myLabel3= Label(mainWindow, text=\"Blue\", bg=\"blue\", fg=\"white\")\n",
    "myLabel4= Label(mainWindow, text=\"Orange\", bg=\"orange\", fg=\"black\")\n",
    "\n",
    "myLabel1.pack(side=LEFT)\n",
    "myLabel2.pack(side=RIGHT)\n",
    "myLabel3.pack(side=TOP)\n",
    "myLabel4.pack(side=BOTTOM)\n",
    "\n",
    "mainWindow.mainloop()"
   ]
  },
  {
   "cell_type": "markdown",
   "metadata": {},
   "source": [
    "## anchor"
   ]
  },
  {
   "cell_type": "code",
   "execution_count": 8,
   "metadata": {},
   "outputs": [],
   "source": [
    "from tkinter import *\n",
    "\n",
    "mainWindow = Tk()\n",
    "mainWindow.geometry('600x500+300+100')\n",
    "\n",
    "myLabel1 = Label(mainWindow, text=\"Red\", bg=\"red\", fg=\"white\")\n",
    "myLabel2 = Label(mainWindow, text=\"Green\", bg=\"green\", fg=\"black\")\n",
    "myLabel3= Label(mainWindow, text=\"Blue\", bg=\"blue\", fg=\"white\")\n",
    "myLabel4= Label(mainWindow, text=\"Orange\", bg=\"orange\", fg=\"black\")\n",
    "\n",
    "myLabel1.pack(anchor=N)\n",
    "myLabel2.pack(anchor=W)\n",
    "myLabel3.pack(anchor=E)\n",
    "myLabel4.pack(anchor=S)\n",
    "\n",
    "mainWindow.mainloop()"
   ]
  },
  {
   "cell_type": "markdown",
   "metadata": {},
   "source": [
    "## fill"
   ]
  },
  {
   "cell_type": "code",
   "execution_count": 10,
   "metadata": {},
   "outputs": [],
   "source": [
    "from tkinter import *\n",
    "\n",
    "mainWindow = Tk()\n",
    "mainWindow.geometry('600x500+300+100')\n",
    "\n",
    "myLabel1 = Label(mainWindow, text=\"Red\", bg=\"red\", fg=\"white\")\n",
    "myLabel2 = Label(mainWindow, text=\"Green\", bg=\"green\", fg=\"black\")\n",
    "myLabel3= Label(mainWindow, text=\"Blue\", bg=\"blue\", fg=\"white\")\n",
    "myLabel4= Label(mainWindow, text=\"Orange\", bg=\"orange\", fg=\"black\")\n",
    "\n",
    "myLabel1.pack(side=LEFT, fill=BOTH)\n",
    "myLabel2.pack(side=RIGHT, fill=Y)\n",
    "myLabel3.pack(side=TOP, fill=X)\n",
    "myLabel4.pack(side=BOTTOM, fill=Y)\n",
    "\n",
    "mainWindow.mainloop()"
   ]
  },
  {
   "cell_type": "markdown",
   "metadata": {},
   "source": [
    "## expand"
   ]
  },
  {
   "cell_type": "code",
   "execution_count": 12,
   "metadata": {},
   "outputs": [],
   "source": [
    "from tkinter import *\n",
    "\n",
    "mainWindow = Tk()\n",
    "mainWindow.geometry('600x500+300+100')\n",
    "\n",
    "myLabel1 = Label(mainWindow, text=\"Red\", bg=\"red\", fg=\"white\")\n",
    "myLabel2 = Label(mainWindow, text=\"Green\", bg=\"green\", fg=\"black\")\n",
    "myLabel3= Label(mainWindow, text=\"Blue\", bg=\"blue\", fg=\"white\", height=10)\n",
    "myLabel4= Label(mainWindow, text=\"Orange\", bg=\"orange\", fg=\"black\")\n",
    "\n",
    "myLabel1.pack(side=LEFT, fill=BOTH, expand=1)\n",
    "myLabel2.pack(side=RIGHT, fill=Y, expand=0)\n",
    "myLabel3.pack(side=TOP, fill=X, expand=0)\n",
    "myLabel4.pack(side=BOTTOM, fill=Y, expand=1)\n",
    "\n",
    "mainWindow.mainloop()"
   ]
  },
  {
   "cell_type": "markdown",
   "metadata": {},
   "source": [
    "## ipadx, ipady, padx, pady"
   ]
  },
  {
   "cell_type": "code",
   "execution_count": 13,
   "metadata": {},
   "outputs": [],
   "source": [
    "from tkinter import *\n",
    "\n",
    "mainWindow = Tk()\n",
    "mainWindow.geometry('600x500+300+100')\n",
    "\n",
    "myLabel1 = Label(mainWindow, text=\"Red\", bg=\"red\", fg=\"white\")\n",
    "myLabel2 = Label(mainWindow, text=\"Green\", bg=\"green\", fg=\"black\")\n",
    "myLabel3= Label(mainWindow, text=\"Blue\", bg=\"blue\", fg=\"white\", height=10)\n",
    "myLabel4= Label(mainWindow, text=\"Orange\", bg=\"orange\", fg=\"black\")\n",
    "\n",
    "myLabel1.pack(side=LEFT, fill=BOTH, expand=1, anchor=N, ipadx=5, ipady=5, padx=10, pady=10)\n",
    "myLabel2.pack(side=RIGHT, fill=Y, expand=0, anchor=NW, ipadx=5, ipady=5, padx=10, pady=10)\n",
    "myLabel3.pack(side=TOP, fill=X, expand=0, anchor=E, ipadx=5, ipady=5, padx=10, pady=10)\n",
    "myLabel4.pack(side=BOTTOM, fill=Y, expand=1, anchor=N, ipadx=5, ipady=5, padx=10, pady=10)\n",
    "\n",
    "# ipad is internal\n",
    "# pad is external\n",
    "\n",
    "mainWindow.mainloop()"
   ]
  }
 ],
 "metadata": {
  "kernelspec": {
   "display_name": "Python 3",
   "language": "python",
   "name": "python3"
  },
  "language_info": {
   "codemirror_mode": {
    "name": "ipython",
    "version": 3
   },
   "file_extension": ".py",
   "mimetype": "text/x-python",
   "name": "python",
   "nbconvert_exporter": "python",
   "pygments_lexer": "ipython3",
   "version": "3.7.4"
  }
 },
 "nbformat": 4,
 "nbformat_minor": 2
}
