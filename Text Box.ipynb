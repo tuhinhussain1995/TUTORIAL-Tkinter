{
 "cells": [
  {
   "cell_type": "code",
   "execution_count": 1,
   "metadata": {},
   "outputs": [],
   "source": [
    "from tkinter import *\n",
    "\n",
    "mainWindow = Tk()\n",
    "mainWindow.geometry('600x500+300+100')\n",
    "\n",
    "text = Text(mainWindow,\n",
    "            font='Arial 16 italic',\n",
    "            bg='gray',\n",
    "            fg='red',\n",
    "            cursor='star',\n",
    "            width=30,\n",
    "            height=5,\n",
    "            wrap=WORD,\n",
    "            padx=10,\n",
    "            pady=10,\n",
    "            selectbackground='blue',\n",
    "            spacing1=20,                 # Top\n",
    "            spacing2=20,                 # Bottom\n",
    "            spacing3=10,                 # Between Two Line\n",
    "            highlightbackground='yellow',\n",
    "            highlightthickness=10,\n",
    "            highlightcolor='orange',\n",
    "            bd=10,\n",
    "            relief=SUNKEN)\n",
    "\n",
    "text.insert(INSERT, \"Enter Description.....\")\n",
    "\n",
    "text.pack()\n",
    "\n",
    "mainWindow.mainloop()"
   ]
  }
 ],
 "metadata": {
  "kernelspec": {
   "display_name": "Python 3",
   "language": "python",
   "name": "python3"
  },
  "language_info": {
   "codemirror_mode": {
    "name": "ipython",
    "version": 3
   },
   "file_extension": ".py",
   "mimetype": "text/x-python",
   "name": "python",
   "nbconvert_exporter": "python",
   "pygments_lexer": "ipython3",
   "version": "3.7.4"
  }
 },
 "nbformat": 4,
 "nbformat_minor": 2
}
